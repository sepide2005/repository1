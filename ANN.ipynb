{
  "cells": [
    {
      "cell_type": "markdown",
      "metadata": {
        "id": "view-in-github",
        "colab_type": "text"
      },
      "source": [
        "<a href=\"https://colab.research.google.com/github/sepide2005/repository1/blob/main/ANN.ipynb\" target=\"_parent\"><img src=\"https://colab.research.google.com/assets/colab-badge.svg\" alt=\"Open In Colab\"/></a>"
      ]
    },
    {
      "cell_type": "markdown",
      "metadata": {
        "id": "d_1Pm6s9gzHy"
      },
      "source": [
        "# Neural Network Class Definition"
      ]
    },
    {
      "cell_type": "code",
      "execution_count": null,
      "metadata": {
        "colab": {
          "background_save": true
        },
        "id": "a5SHLVX7g-cK"
      },
      "outputs": [],
      "source": [
        "import numpy as np\n",
        "from scipy.special import expit\n",
        "import matplotlib.pyplot as plt\n",
        "\n",
        "class NeuralNetwork :\n",
        "\n",
        "  #initialize the neural network\n",
        "  def __init__(self, input, hidden, output, learning_rate):\n",
        "    #set the number of nodes in input , hidden and output layars\n",
        "    self.input_nodes = input\n",
        "    self.hidden_nodes = hidden\n",
        "    self.output_nodes = output\n",
        "\n",
        "    #set the number of learning_rate\n",
        "    self.learning_rate = learning_rate\n",
        "\n",
        "    #Apply the sigmoid function\n",
        "    self.activation_function = lambda x : expit(x)\n",
        "\n",
        "    #pow(self.input_nodes,-0.5) = 1\\((Number of connections)^(1/2))\n",
        "    self.w_i_h = np.random.default_rng().normal(0, pow(self.input_nodes,-0.5), (self.hidden_nodes, self.input_nodes))\n",
        "    #pow(self.hidden_nodes,-0.5) = 1\\((Number of connections)^(1/2))\n",
        "    self.w_h_o = np.random.default_rng().normal(0, pow(self.hidden_nodes,-0.5), (self.output_nodes, self.hidden_nodes))\n",
        "    pass\n",
        "\n",
        "\n",
        "  # Calculation of the output by giving the input - Feedforward\n",
        "  def query(self, input_list) :\n",
        "    inputs = np.array(input_list, ndmin=2).T\n",
        "\n",
        "    x_hidden = np.dot(self.w_i_h, inputs)\n",
        "    o_hidden = self.activation_function(x_hidden)\n",
        "\n",
        "    x_output = np.dot(self.w_h_o, o_hidden)\n",
        "    o_output = self.activation_function(x_output)\n",
        "\n",
        "    return o_output\n",
        "\n",
        "\n",
        "  #Learning networks based on examples - Backpropagation\n",
        "  def train(self, input_list, target_list) :\n",
        "\n",
        "    inputs = np.array(input_list, ndmin=2).T\n",
        "\n",
        "    x_hidden = np.dot(self.w_i_h, inputs)\n",
        "    o_hidden = self.activation_function(x_hidden)\n",
        "\n",
        "    x_output = np.dot(self.w_h_o, o_hidden)\n",
        "    o_output = self.activation_function(x_output)\n",
        "\n",
        "\n",
        "    targets = np.array(target_list, ndmin=2).T\n",
        "    output_error = targets - o_output\n",
        "    hidden_error = np.dot(self.w_h_o.T, output_error)\n",
        "\n",
        "    #Calculation of new weights of connections with Gradient descent\n",
        "    self.w_h_o += self.learning_rate * np.dot((output_error * o_output * (1 - o_output)), o_hidden.T)\n",
        "    self.w_i_h += self.learning_rate * np.dot((hidden_error * o_hidden * (1 - o_hidden)), inputs.T)"
      ]
    },
    {
      "cell_type": "markdown",
      "metadata": {
        "id": "O3tftQYellPh"
      },
      "source": [
        "# Neural Network Instance Creation"
      ]
    },
    {
      "cell_type": "code",
      "execution_count": null,
      "metadata": {
        "colab": {
          "background_save": true,
          "base_uri": "https://localhost:8080/"
        },
        "collapsed": true,
        "id": "E0LVHDPek7U4",
        "outputId": "8db1ba49-27c9-4e27-fd12-cb6a163f87b8"
      },
      "outputs": [
        {
          "ename": "ValueError",
          "evalue": "mount failed",
          "output_type": "error",
          "traceback": [
            "\u001b[0;31m---------------------------------------------------------------------------\u001b[0m",
            "\u001b[0;31mValueError\u001b[0m                                Traceback (most recent call last)",
            "\u001b[0;32m<ipython-input-2-57da32e93a21>\u001b[0m in \u001b[0;36m<cell line: 3>\u001b[0;34m()\u001b[0m\n\u001b[1;32m      1\u001b[0m \u001b[0;31m#calling the train data from MNIST dataset\u001b[0m\u001b[0;34m\u001b[0m\u001b[0;34m\u001b[0m\u001b[0m\n\u001b[1;32m      2\u001b[0m \u001b[0;32mfrom\u001b[0m \u001b[0mgoogle\u001b[0m\u001b[0;34m.\u001b[0m\u001b[0mcolab\u001b[0m \u001b[0;32mimport\u001b[0m \u001b[0mdrive\u001b[0m\u001b[0;34m\u001b[0m\u001b[0;34m\u001b[0m\u001b[0m\n\u001b[0;32m----> 3\u001b[0;31m \u001b[0mdrive\u001b[0m\u001b[0;34m.\u001b[0m\u001b[0mmount\u001b[0m\u001b[0;34m(\u001b[0m\u001b[0;34m'/content/drive'\u001b[0m\u001b[0;34m)\u001b[0m\u001b[0;34m\u001b[0m\u001b[0;34m\u001b[0m\u001b[0m\n\u001b[0m\u001b[1;32m      4\u001b[0m \u001b[0mtrain_file\u001b[0m \u001b[0;34m=\u001b[0m \u001b[0mopen\u001b[0m\u001b[0;34m(\u001b[0m\u001b[0;34m'drive/MyDrive/mnist/mnist_train.csv'\u001b[0m\u001b[0;34m,\u001b[0m\u001b[0;34m'r'\u001b[0m\u001b[0;34m)\u001b[0m\u001b[0;34m\u001b[0m\u001b[0;34m\u001b[0m\u001b[0m\n\u001b[1;32m      5\u001b[0m \u001b[0mtrain_list\u001b[0m \u001b[0;34m=\u001b[0m \u001b[0mlist\u001b[0m\u001b[0;34m(\u001b[0m\u001b[0mtrain_file\u001b[0m\u001b[0;34m)\u001b[0m\u001b[0;34m\u001b[0m\u001b[0;34m\u001b[0m\u001b[0m\n",
            "\u001b[0;32m/usr/local/lib/python3.10/dist-packages/google/colab/drive.py\u001b[0m in \u001b[0;36mmount\u001b[0;34m(mountpoint, force_remount, timeout_ms, readonly)\u001b[0m\n\u001b[1;32m     98\u001b[0m \u001b[0;32mdef\u001b[0m \u001b[0mmount\u001b[0m\u001b[0;34m(\u001b[0m\u001b[0mmountpoint\u001b[0m\u001b[0;34m,\u001b[0m \u001b[0mforce_remount\u001b[0m\u001b[0;34m=\u001b[0m\u001b[0;32mFalse\u001b[0m\u001b[0;34m,\u001b[0m \u001b[0mtimeout_ms\u001b[0m\u001b[0;34m=\u001b[0m\u001b[0;36m120000\u001b[0m\u001b[0;34m,\u001b[0m \u001b[0mreadonly\u001b[0m\u001b[0;34m=\u001b[0m\u001b[0;32mFalse\u001b[0m\u001b[0;34m)\u001b[0m\u001b[0;34m:\u001b[0m\u001b[0;34m\u001b[0m\u001b[0;34m\u001b[0m\u001b[0m\n\u001b[1;32m     99\u001b[0m   \u001b[0;34m\"\"\"Mount your Google Drive at the specified mountpoint path.\"\"\"\u001b[0m\u001b[0;34m\u001b[0m\u001b[0;34m\u001b[0m\u001b[0m\n\u001b[0;32m--> 100\u001b[0;31m   return _mount(\n\u001b[0m\u001b[1;32m    101\u001b[0m       \u001b[0mmountpoint\u001b[0m\u001b[0;34m,\u001b[0m\u001b[0;34m\u001b[0m\u001b[0;34m\u001b[0m\u001b[0m\n\u001b[1;32m    102\u001b[0m       \u001b[0mforce_remount\u001b[0m\u001b[0;34m=\u001b[0m\u001b[0mforce_remount\u001b[0m\u001b[0;34m,\u001b[0m\u001b[0;34m\u001b[0m\u001b[0;34m\u001b[0m\u001b[0m\n",
            "\u001b[0;32m/usr/local/lib/python3.10/dist-packages/google/colab/drive.py\u001b[0m in \u001b[0;36m_mount\u001b[0;34m(mountpoint, force_remount, timeout_ms, ephemeral, readonly)\u001b[0m\n\u001b[1;32m    285\u001b[0m             \u001b[0;34m'https://research.google.com/colaboratory/faq.html#drive-timeout'\u001b[0m\u001b[0;34m\u001b[0m\u001b[0;34m\u001b[0m\u001b[0m\n\u001b[1;32m    286\u001b[0m         )\n\u001b[0;32m--> 287\u001b[0;31m       \u001b[0;32mraise\u001b[0m \u001b[0mValueError\u001b[0m\u001b[0;34m(\u001b[0m\u001b[0;34m'mount failed'\u001b[0m \u001b[0;34m+\u001b[0m \u001b[0mextra_reason\u001b[0m\u001b[0;34m)\u001b[0m\u001b[0;34m\u001b[0m\u001b[0;34m\u001b[0m\u001b[0m\n\u001b[0m\u001b[1;32m    288\u001b[0m     \u001b[0;32melif\u001b[0m \u001b[0mcase\u001b[0m \u001b[0;34m==\u001b[0m \u001b[0;36m4\u001b[0m\u001b[0;34m:\u001b[0m\u001b[0;34m\u001b[0m\u001b[0;34m\u001b[0m\u001b[0m\n\u001b[1;32m    289\u001b[0m       \u001b[0;31m# Terminate the DriveFS binary before killing bash.\u001b[0m\u001b[0;34m\u001b[0m\u001b[0;34m\u001b[0m\u001b[0m\n",
            "\u001b[0;31mValueError\u001b[0m: mount failed"
          ]
        }
      ],
      "source": [
        "#calling the train data from MNIST dataset\n",
        "from google.colab import drive\n",
        "drive.mount('/content/drive')\n",
        "train_file = open('drive/MyDrive/mnist/mnist_train.csv','r')\n",
        "train_list = list(train_file)\n",
        "train_file.close()\n",
        "\n",
        "#calling the train data from MNIST dataset\n",
        "test_file = open('drive/MyDrive/mnist/mnist_test.csv','r')\n",
        "test_list = list(test_file)\n",
        "test_file.close()"
      ]
    },
    {
      "cell_type": "code",
      "execution_count": null,
      "metadata": {
        "colab": {
          "background_save": true
        },
        "collapsed": true,
        "id": "PyJCSI9JRpIq"
      },
      "outputs": [],
      "source": [
        "#determining the number of each neuron in each layar\n",
        "input_nodes = 784\n",
        "hidden_nodes = 100\n",
        "output_nodes = 10\n",
        "\n",
        "#determining the learning rate of the network\n",
        "learning_rate = 0.1\n",
        "\n",
        "epochs = 4\n",
        "\n",
        "#example\n",
        "nn = NeuralNetwork(input=input_nodes, hidden=hidden_nodes, output=output_nodes, learning_rate=learning_rate)\n",
        "print(\"initial weights (w_input_hidden):\",nn.w_i_h)\n",
        "\n",
        "#training the created network with MNIST training data\n",
        "for e in range(epochs):\n",
        "  for row in train_list:\n",
        "    row_data = row.split(',')\n",
        "    inputs = (np.asfarray(row_data[1:]) / (255.0 * 0.99)) + 0.01\n",
        "    targets = np.zeros(output_nodes) + 0.01\n",
        "    targets[int(row_data[0])] = 0.99\n",
        "    nn.train(inputs, targets)\n",
        "print(\"weights after training (w_input_hidden):\",nn.w_i_h)\n"
      ]
    },
    {
      "cell_type": "code",
      "execution_count": null,
      "metadata": {
        "colab": {
          "background_save": true
        },
        "collapsed": true,
        "id": "ZzzzBuQOl82Q"
      },
      "outputs": [],
      "source": [
        "#testing the created network with one of the datas of testing data\n",
        "test_row_data = test_list[1].split(',')\n",
        "print(test_row_data)\n",
        "print('target test is : ', test_row_data[0], '')\n",
        "\n",
        "#displaying the MNIST dataset\n",
        "image_data = np.asfarray(test_row_data[1:]).reshape((28,28))\n",
        "image = plt.imshow(image_data, cmap='Greys')\n",
        "\n",
        "#network prediction\n",
        "output = nn.query((np.asfarray(test_row_data[1:]) / (255.0 * 0.99)) + 0.01)\n",
        "print(\"Predicted digit is :\", np.argmax(output))"
      ]
    },
    {
      "cell_type": "code",
      "execution_count": null,
      "metadata": {
        "colab": {
          "background_save": true
        },
        "id": "SHLFiIQTUsOP"
      },
      "outputs": [],
      "source": [
        "#testing the performance of the network in terms of predicting all test data\n",
        "score_card = []\n",
        "for row in test_list:\n",
        "  row_data = row.split(',')\n",
        "  target_number = int(row_data[0])\n",
        "  inputs = (np.asfarray(row_data[1:]) / (255.0 * 0.99)) + 0.01\n",
        "  outputs = nn.query(inputs)\n",
        "  Predicted_number = np.argmax(outputs)\n",
        "  # print('\\ntarget number :', target_number)\n",
        "  # print('predicted_number :', Predicted_number)\n",
        "  if target_number == Predicted_number :\n",
        "    score_card.append(1)\n",
        "  else :\n",
        "    score_card.append(0)\n",
        "\n",
        "#Network Performance Report\n",
        "# print('\\nscore : ', score_card)\n",
        "score_card_array = np.asarray(score_card)\n",
        "print('\\nperformance : ', '%', (score_card_array.sum()/score_card_array.size)*100)\n"
      ]
    }
  ],
  "metadata": {
    "accelerator": "GPU",
    "colab": {
      "collapsed_sections": [
        "d_1Pm6s9gzHy",
        "O3tftQYellPh"
      ],
      "gpuType": "T4",
      "provenance": [],
      "authorship_tag": "ABX9TyNxsIiX8Pqyqej83Zp4+CNa",
      "include_colab_link": true
    },
    "kernelspec": {
      "display_name": "Python 3",
      "name": "python3"
    },
    "language_info": {
      "name": "python"
    }
  },
  "nbformat": 4,
  "nbformat_minor": 0
}